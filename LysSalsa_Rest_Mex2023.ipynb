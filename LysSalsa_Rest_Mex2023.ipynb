{
  "cells": [
    {
      "cell_type": "markdown",
      "source": [
        "Kellert, O., M. Zaman, N. Matlis and C. Gomez-Rodriguez (2023) Experimenting with UD Adaptation of an Unsupervised Rule-based Approach for Sentiment Analysis of Mexican Tourist Texts. Proceedings of Iberlef 2023 within Shared Task Rest-Mex 2023. The preprint version is available on arXiv: URL: https://arxiv.org/abs/2309.05312"
      ],
      "metadata": {
        "id": "tRYUYZmrLnGo"
      }
    },
    {
      "cell_type": "code",
      "execution_count": null,
      "metadata": {
        "id": "-fBnIq8u5UrP"
      },
      "outputs": [],
      "source": [
        "#pip install stanza"
      ]
    },
    {
      "cell_type": "code",
      "execution_count": null,
      "metadata": {
        "colab": {
          "base_uri": "https://localhost:8080/",
          "height": 611,
          "referenced_widgets": [
            "559e66d409b84a7bb928cfe576f6b56a",
            "6eef304b42424bc2abf51e18bd0e8290",
            "71ad4412b34041058d6886ac54f81d78",
            "82b9a5407cc6470c8a4d80b7e9b6cf06",
            "1d767e1561e24499bd751b80c0c86b93",
            "5df8e1cb289845ac9ac29a0bd2b5d4b0",
            "72b436c9b7fd45a2a9b89fc21c3fa7ac",
            "10986582f32e4dd88256322026220f4f",
            "87fdc1457b764ff79920ccbc1e22a8a3",
            "1d0a89d93de24618b68fbaf29fe67946",
            "95b39a5e48d743fdb767e0f335226ff2",
            "ddc8a35f65bf4497974a7b091b2d7a5e",
            "396372ee85d0499fa76ccc806813cd7f",
            "1bf3020b511445c78cd097d41a117fa5",
            "7f252fade1e24d07b5440b784a82e62e",
            "8e6f555da55440589c3ece238a44f700",
            "efdb0ebd568a48f8ac9340c6b8e25629",
            "f1254d82d08048ff904d394f35a1961f",
            "263eb545a6964493a34189d653d0be85",
            "754bb10b02914a45a935af9cb11e8815",
            "9a9651bd2b614e7ba973cb308297b97a",
            "785cdf8ff7704db6896d35cf21bdc3ad",
            "0cc5089b9d844216b88e641ca6d1356e",
            "1ca74528f8044ea8ae745941f9472be7",
            "7f1a13fc33e747c98fa71e2288a386f1",
            "f89114f181a04f1ab35198f8127ea912",
            "04c5f2e59b9045adb00e966b1e7acc27",
            "19dcbe83e12247d4927836b33659f4ee",
            "3bc4fe7affc24319a1bd512d8c8695fa",
            "3eb210359c874409a6b5aa19db2506e6",
            "c8de60c29c2648f2b490da1cf37c3cbb",
            "8710ad993b9745cfa1741fa10353bbe1",
            "df67a64c795d47c48730edcd9a1da0ed",
            "7edbac37da7c49999760256696138f50",
            "45eda734e1c34f16afcf63ff2e8b56a5"
          ]
        },
        "id": "m9gI9km85ZiH",
        "outputId": "89d7d9fe-2cce-46bd-b917-c8580434da2a"
      },
      "outputs": [
        {
          "data": {
            "application/vnd.jupyter.widget-view+json": {
              "model_id": "7edbac37da7c49999760256696138f50",
              "version_major": 2,
              "version_minor": 0
            },
            "text/plain": [
              "Downloading https://raw.githubusercontent.com/stanfordnlp/stanza-resources/main/resources_1.5.1.json:   0%|   …"
            ]
          },
          "metadata": {},
          "output_type": "display_data"
        },
        {
          "name": "stderr",
          "output_type": "stream",
          "text": [
            "2023-09-20 13:23:17 INFO: Downloading default packages for language: es (Spanish) ...\n",
            "2023-09-20 13:23:18 INFO: File exists: /home/imran/stanza_resources/es/default.zip\n",
            "2023-09-20 13:23:21 INFO: Finished downloading models and saved to /home/imran/stanza_resources.\n",
            "2023-09-20 13:23:21 INFO: Checking for updates to resources.json in case models have been updated.  Note: this behavior can be turned off with download_method=None or download_method=DownloadMethod.REUSE_RESOURCES\n"
          ]
        },
        {
          "data": {
            "application/vnd.jupyter.widget-view+json": {
              "model_id": "45eda734e1c34f16afcf63ff2e8b56a5",
              "version_major": 2,
              "version_minor": 0
            },
            "text/plain": [
              "Downloading https://raw.githubusercontent.com/stanfordnlp/stanza-resources/main/resources_1.5.1.json:   0%|   …"
            ]
          },
          "metadata": {},
          "output_type": "display_data"
        },
        {
          "name": "stderr",
          "output_type": "stream",
          "text": [
            "2023-09-20 13:23:22 INFO: Loading these models for language: es (Spanish):\n",
            "==================================\n",
            "| Processor    | Package         |\n",
            "----------------------------------\n",
            "| tokenize     | ancora          |\n",
            "| mwt          | ancora          |\n",
            "| pos          | ancora_charlm   |\n",
            "| lemma        | ancora_nocharlm |\n",
            "| constituency | combined_charlm |\n",
            "| depparse     | ancora_charlm   |\n",
            "| sentiment    | tass2020        |\n",
            "| ner          | conll02         |\n",
            "==================================\n",
            "\n",
            "2023-09-20 13:23:22 INFO: Using device: cuda\n",
            "2023-09-20 13:23:22 INFO: Loading: tokenize\n",
            "2023-09-20 13:23:22 INFO: Loading: mwt\n",
            "2023-09-20 13:23:23 INFO: Loading: pos\n",
            "2023-09-20 13:23:23 INFO: Loading: lemma\n",
            "2023-09-20 13:23:23 INFO: Loading: constituency\n",
            "2023-09-20 13:23:23 INFO: Loading: depparse\n",
            "2023-09-20 13:23:23 INFO: Loading: sentiment\n",
            "2023-09-20 13:23:24 INFO: Loading: ner\n",
            "2023-09-20 13:23:24 INFO: Done loading processors!\n"
          ]
        }
      ],
      "source": [
        "import numpy as np\n",
        "from statistics import mean\n",
        "import stanza\n",
        "stanza.download('es')\n",
        "nlp = stanza.Pipeline('es')"
      ]
    },
    {
      "cell_type": "code",
      "execution_count": null,
      "metadata": {
        "colab": {
          "base_uri": "https://localhost:8080/",
          "height": 405,
          "referenced_widgets": [
            "526cfe01f32d4e138152cef8c13e0a0b",
            "523e699ba0c446f39da71a66f464b8c7",
            "e89ec59f7e7a447d8648c40c47096fae",
            "353d17eebfa34aa3a565e06eee117a8a",
            "064c9fbcea274657bba01bd2345eff27",
            "dcf2bd9b24c745ee9e4db831cc193154",
            "428a0b91ea7c43ecb6f5d128fdc47d57",
            "530a279950474e3c8e4c3b0ea64dd2bb",
            "c496c15f38af4930a950ca0643a7541d",
            "c751d9f0e1364e62804d8a151f605322",
            "ebdc47b1dbed4aa1b5a6d29ea0900349"
          ]
        },
        "id": "EIpfztdcBrNg",
        "outputId": "2515cdd6-d1d6-4c2c-cefc-f3c2ad32eb80"
      },
      "outputs": [
        {
          "name": "stderr",
          "output_type": "stream",
          "text": [
            "INFO:stanza:Checking for updates to resources.json in case models have been updated.  Note: this behavior can be turned off with download_method=None or download_method=DownloadMethod.REUSE_RESOURCES\n"
          ]
        },
        {
          "data": {
            "application/vnd.jupyter.widget-view+json": {
              "model_id": "526cfe01f32d4e138152cef8c13e0a0b",
              "version_major": 2,
              "version_minor": 0
            },
            "text/plain": [
              "Downloading https://raw.githubusercontent.com/stanfordnlp/stanza-resources/main/resources_1.5.0.json:   0%|   …"
            ]
          },
          "metadata": {},
          "output_type": "display_data"
        },
        {
          "name": "stderr",
          "output_type": "stream",
          "text": [
            "INFO:stanza:Loading these models for language: es (Spanish):\n",
            "=======================\n",
            "| Processor | Package |\n",
            "-----------------------\n",
            "| tokenize  | ancora  |\n",
            "| mwt       | ancora  |\n",
            "| pos       | ancora  |\n",
            "| lemma     | ancora  |\n",
            "| depparse  | ancora  |\n",
            "=======================\n",
            "\n",
            "INFO:stanza:Using device: cpu\n",
            "INFO:stanza:Loading: tokenize\n",
            "INFO:stanza:Loading: mwt\n",
            "INFO:stanza:Loading: pos\n",
            "INFO:stanza:Loading: lemma\n",
            "INFO:stanza:Loading: depparse\n",
            "INFO:stanza:Done loading processors!\n"
          ]
        }
      ],
      "source": [
        "nlp = stanza.Pipeline(lang='es', processors='tokenize,pos,mwt,lemma,depparse')"
      ]
    },
    {
      "cell_type": "markdown",
      "metadata": {
        "id": "zwxgrU7Tod4v"
      },
      "source": [
        "Process the dictionaries\n"
      ]
    },
    {
      "cell_type": "code",
      "execution_count": null,
      "metadata": {
        "id": "PySnc8zFBaM7"
      },
      "outputs": [],
      "source": [
        "# from google.colab import drive\n",
        "# drive.mount('/content/drive')"
      ]
    },
    {
      "cell_type": "code",
      "execution_count": null,
      "metadata": {
        "id": "BXSxQYcGBJIM"
      },
      "outputs": [],
      "source": [
        "def populateDict(fileLocation):\n",
        "    dic={}\n",
        "    f = open(fileLocation, encoding='latin-1')\n",
        "    for line in f:\n",
        "        (key,value) = line.split()\n",
        "        dic[key]=int(value.strip())\n",
        "    return dic"
      ]
    },
    {
      "cell_type": "code",
      "execution_count": null,
      "metadata": {
        "id": "o9X5c_uLB_Dt"
      },
      "outputs": [],
      "source": [
        "#dAdj = populateDict('adj.txt') # define sentiment dictionaries\n",
        "# define sentiment dictionaries\n",
        "dAdj = populateDict('adj.txt')\n",
        "dAdv = populateDict('adv.txt')\n",
        "dNoun = populateDict('noun.txt')\n",
        "dVerb = populateDict('verb.txt')"
      ]
    },
    {
      "cell_type": "code",
      "execution_count": null,
      "metadata": {
        "id": "WVLjP15GS1C3"
      },
      "outputs": [],
      "source": [
        "lstNeg =['nadie','tampoco','no','ez','non','no','nunca','não','nada','ni','nunca','ningun','ninguno','ninguna','nisiquiera'] # list of negation elements"
      ]
    },
    {
      "cell_type": "code",
      "execution_count": null,
      "metadata": {
        "id": "eQ6p1eNrXke1"
      },
      "outputs": [],
      "source": [
        "lstfmod=[\"mucho\", \"super\", \"realmente\", \"tan\", \"tanto\", \"grande\", \"poco\", \"más\", \"simplemente\", \"absolutamente\", \"totalmente\", \"bastante\", \"menos\", \"definitivamente\", \"increíblemente\", \"especialmente\", \"incluso\" ] # list of intensifiers"
      ]
    },
    {
      "cell_type": "code",
      "execution_count": null,
      "metadata": {
        "colab": {
          "base_uri": "https://localhost:8080/"
        },
        "id": "IDNmYz84YkCm",
        "outputId": "29a92449-93e3-4edd-811e-e98c561b4be4"
      },
      "outputs": [
        {
          "data": {
            "text/plain": [
              "5"
            ]
          },
          "execution_count": 20,
          "metadata": {},
          "output_type": "execute_result"
        }
      ],
      "source": [
        "max(dAdv.values())"
      ]
    },
    {
      "cell_type": "markdown",
      "source": [],
      "metadata": {
        "id": "84AlwZ9QLlIb"
      }
    },
    {
      "cell_type": "code",
      "execution_count": null,
      "metadata": {
        "colab": {
          "base_uri": "https://localhost:8080/"
        },
        "id": "XFhKNDrbcYXG",
        "outputId": "91665093-b3bf-4137-d016-efb5680201e7"
      },
      "outputs": [
        {
          "data": {
            "text/plain": [
              "-5"
            ]
          },
          "execution_count": 21,
          "metadata": {},
          "output_type": "execute_result"
        }
      ],
      "source": [
        "min(dAdv.values())"
      ]
    },
    {
      "cell_type": "code",
      "execution_count": null,
      "metadata": {
        "colab": {
          "base_uri": "https://localhost:8080/"
        },
        "id": "69SdNGoFcb7O",
        "outputId": "fd8de37b-1d68-470b-c7c5-e2541c0ca9f9"
      },
      "outputs": [
        {
          "data": {
            "text/plain": [
              "5"
            ]
          },
          "execution_count": 22,
          "metadata": {},
          "output_type": "execute_result"
        }
      ],
      "source": [
        "max(dAdj.values())"
      ]
    },
    {
      "cell_type": "code",
      "execution_count": null,
      "metadata": {
        "colab": {
          "base_uri": "https://localhost:8080/"
        },
        "id": "Cip02yT5cgWC",
        "outputId": "b75277e6-00a0-4196-deb0-973985541db0"
      },
      "outputs": [
        {
          "data": {
            "text/plain": [
              "-5"
            ]
          },
          "execution_count": 23,
          "metadata": {},
          "output_type": "execute_result"
        }
      ],
      "source": [
        "min(dAdj.values())"
      ]
    },
    {
      "cell_type": "code",
      "execution_count": null,
      "metadata": {
        "id": "ASfNkptN8msB"
      },
      "outputs": [],
      "source": [
        "### analysing a string (=sent) with Stanza\n",
        "def createDic(sent):\n",
        "    doc = nlp(sent)\n",
        "    dicts=doc.to_dict()\n",
        "    return dicts"
      ]
    },
    {
      "cell_type": "code",
      "execution_count": null,
      "metadata": {
        "colab": {
          "base_uri": "https://localhost:8080/"
        },
        "id": "UcBp79Q22P8H",
        "outputId": "8ca5f5a4-71fa-4791-a0d3-4126bd9913ee"
      },
      "outputs": [
        {
          "data": {
            "text/plain": [
              "[[{'id': 1,\n",
              "   'text': 'buena',\n",
              "   'lemma': 'buen',\n",
              "   'upos': 'ADJ',\n",
              "   'xpos': 'aq0fs0',\n",
              "   'feats': 'Gender=Fem|Number=Sing',\n",
              "   'head': 2,\n",
              "   'deprel': 'amod',\n",
              "   'start_char': 0,\n",
              "   'end_char': 5,\n",
              "   'ner': 'O',\n",
              "   'multi_ner': ('O',)},\n",
              "  {'id': 2,\n",
              "   'text': 'comida',\n",
              "   'lemma': 'comida',\n",
              "   'upos': 'NOUN',\n",
              "   'xpos': 'ncfs000',\n",
              "   'feats': 'Gender=Fem|Number=Sing',\n",
              "   'head': 0,\n",
              "   'deprel': 'root',\n",
              "   'start_char': 6,\n",
              "   'end_char': 12,\n",
              "   'ner': 'O',\n",
              "   'multi_ner': ('O',)}]]"
            ]
          },
          "execution_count": 25,
          "metadata": {},
          "output_type": "execute_result"
        }
      ],
      "source": [
        "createDic(\"buena comida\")"
      ]
    },
    {
      "cell_type": "code",
      "execution_count": null,
      "metadata": {
        "id": "vpak5DOWfgaG"
      },
      "outputs": [],
      "source": [
        "### Creating dctChild dictionary: key= headid, value= a list of childrenids\n",
        "def getChildParentDicts(dct):\n",
        "    dctChild       = {} ## for now, this dictionary is important\n",
        "    dctParent      = {}\n",
        "    dctBeforeToken = {}\n",
        "\n",
        "    for dicVal in dct:\n",
        "        #print(dicVal)\n",
        "        elementID          = dicVal['id']\n",
        "        elementHead        = dicVal['head']\n",
        "        elementLemma       = dicVal['lemma']\n",
        "\n",
        "        #print(type(dct))\n",
        "        if(elementID != 1 ):\n",
        "            eleBeforeDic = dct[int(elementID)-2]\n",
        "            elementBeforLemma = eleBeforeDic['lemma']\n",
        "            #print(elementID, elementLemma, eleBeforeDic, eleBeforeDic['lemma'], elementBeforLemma)\n",
        "        else:\n",
        "            elementBeforLemma = \"-\"\n",
        "\n",
        "        # dic parent is done\n",
        "        dctParent[elementID] = elementHead\n",
        "        dctBeforeToken[elementLemma] =elementBeforLemma\n",
        "\n",
        "        if elementHead not in dctChild.keys():\n",
        "            dctChild[elementHead] =[]\n",
        "\n",
        "        # Adding to the parent node (Elements and ElementsLemma)\n",
        "        dctChild[elementHead].append(elementID)\n",
        "\n",
        "    # working on Sibling dictionary\n",
        "    dctSibling = {}\n",
        "\n",
        "    # Giviing some default values\n",
        "    for key in dctParent.keys():\n",
        "        dctSibling[key]=[]\n",
        "    for key in dctChild.keys():\n",
        "        childList = dctChild[key]\n",
        "        #print(childList)\n",
        "        for chld in childList:\n",
        "          #print(child)\n",
        "          dctSibling[chld] = [x for x in childList if x != chld]\n",
        "    return dctChild, dctParent, dctSibling, dctBeforeToken"
      ]
    },
    {
      "cell_type": "code",
      "execution_count": null,
      "metadata": {
        "colab": {
          "base_uri": "https://localhost:8080/"
        },
        "id": "tpBmXQrpIpSi",
        "outputId": "5259deb0-fc9e-490c-cf5c-b3f8d2aa82a0"
      },
      "outputs": [
        {
          "name": "stdout",
          "output_type": "stream",
          "text": [
            "{1: 2, 2: 0}\n",
            "{2: [1], 0: [2]}\n",
            "{1: [], 2: []}\n",
            "{'gran': '-', 'servicio': 'gran'}\n"
          ]
        }
      ],
      "source": [
        "### let's see an example\n",
        "r1 = 'gran servicio'\n",
        "\n",
        "dicts = createDic(r1)\n",
        "for dicVal in dicts:\n",
        "    #print(dicVal)\n",
        "\n",
        "    dctChild, dctParent, dctSibling, dctBeforeToken = getChildParentDicts(dicVal)\n",
        "\n",
        "    print(dctParent)\n",
        "    print(dctChild)\n",
        "    print(dctSibling)\n",
        "    print(dctBeforeToken)\n",
        "#\"\"\""
      ]
    },
    {
      "cell_type": "code",
      "execution_count": null,
      "metadata": {
        "id": "VhCFA_fWF1d8"
      },
      "outputs": [],
      "source": [
        "### defining POS of our sentiment words from sentiment dictionaries\n",
        "sentdicts={\"ADV\": dAdv, \"ADJ\": dAdj, \"NOUN\": dNoun, \"VERB\": dVerb}"
      ]
    },
    {
      "cell_type": "code",
      "execution_count": null,
      "metadata": {
        "id": "RjqWUmr-GKLN"
      },
      "outputs": [],
      "source": [
        "#### definining the order of key-value pairs from dctChild, which equal tree branches in a dependency tree.\n",
        "def calcbranchorder(dctChild):\n",
        "    #print(\"dctChild.keys are\", list(dctChild.keys()))\n",
        "    if list(dctChild.keys())==[0]:\n",
        "        calcheads=[0]\n",
        "        #print(\"ony one word\")\n",
        "    else:\n",
        "        allheads=list(dctChild.keys())\n",
        "        calcheads=[]\n",
        "        children=dctChild[0]\n",
        "        nextchildren=[]\n",
        "        numchildren=len(children)\n",
        "        #print(\"numchildren is\", numchildren)\n",
        "        while numchildren > 0:\n",
        "            nextchildren=[]\n",
        "            #print('numchildren = ', numchildren)\n",
        "            for child in children:\n",
        "                #print('child = ', child)\n",
        "                if child in allheads:\n",
        "                    print('headchild = ', child)\n",
        "                    calcheads.append(child)\n",
        "                    nextchildren = nextchildren + dctChild[child]\n",
        "                    #print('calcheads = ', calcheads)\n",
        "                    #print('nextchildren = ', nextchildren)\n",
        "            children=nextchildren\n",
        "            numchildren=len(children)\n",
        "        calcheads.reverse()\n",
        "    #print('branch order = ', calcheads)\n",
        "    return calcheads"
      ]
    },
    {
      "cell_type": "code",
      "execution_count": null,
      "metadata": {
        "id": "K92BCVXw6FaG"
      },
      "outputs": [],
      "source": [
        "def calcbranch(dct, headId,childIds):\n",
        "####finding relevant elements in each branch\n",
        "    a=0\n",
        "    b=0\n",
        "    neg=0\n",
        "    p=0\n",
        "    pvalue=0.25 #### check!\n",
        "    negvalue=-4\n",
        "    Negstat=False\n",
        "    fmodstat=False\n",
        "    lexmodstat=False\n",
        "    lexstat=False\n",
        "    lstcntchildren=[]\n",
        "\n",
        "#### starting with children of the branch\n",
        "    for childId in childIds:###\n",
        "        print(\"childid=\", childId)\n",
        "        lemma=dct[childId-1][\"lemma\"]\n",
        "        text=dct[childId-1][\"text\"]\n",
        "        pos=dct[childId-1][\"upos\"]#\n",
        "        if lemma in lstNeg:\n",
        "            Negstat=True\n",
        "            neg=negvalue\n",
        "            #print(\"child is negation\")\n",
        "        elif pos in sentdicts.keys():\n",
        "            deprel= dct[childId-1][\"deprel\"]\n",
        "            #### score of the child\n",
        "            dsent= sentdicts[pos]\n",
        "            if \"elementScore\" in dct[childId-1].keys():\n",
        "                elementScore= dct[childId-1][\"elementScore\"]\n",
        "            elif lemma in dsent.keys():\n",
        "                elementScore=dsent[lemma]\n",
        "            else:\n",
        "                elementScore='none'\n",
        "            ########## properties of the children\n",
        "            Condscoreexists=elementScore!=\"none\"\n",
        "            Condlexmod= \"mod\" in deprel and lemma not in lstfmod and lemma in dsent.keys()\n",
        "            Condlex= \"mod\" not in deprel and lemma in dsent.keys()\n",
        "            ###########considers only children with cnt (= count) that are not conjoined clauses######\n",
        "            if \"elementType\" in dct[childId-1].keys():\n",
        "                if dct[childId-1][\"elementType\"]=='cnt': #and 'conj' not in deprel and 'VERB' not in pos:\n",
        "                    lstcntchildren.append(childId)\n",
        "            if Condlex:\n",
        "                lexstat=True\n",
        "                dct[childId-1][\"elementType\"]='cnt'\n",
        "                dct[childId-1][\"elementScore\"]=dsent[lemma]\n",
        "                lexscore=elementScore\n",
        "                a=lexscore\n",
        "                #print(\"child is lexical head\")\n",
        "            elif lemma in lstfmod and lemma in dsent.keys():\n",
        "                fmodstat=True\n",
        "                fmodscore= elementScore\n",
        "                b= scaleB(int(fmodscore))\n",
        "                #print(\"child is functional modifier\")\n",
        "                #print(\"scaleB:\", b)\n",
        "            elif Condlexmod:\n",
        "                lexmodstat=True\n",
        "                lexmodscore= elementScore\n",
        "                c=lexmodscore\n",
        "                #print(\"child is lexical modifier\")\n",
        "                #print(\"elementscore:\", lexmodscore)\n",
        "            ##### check for pero####\n",
        "        elif lemma==\"pero\":\n",
        "            p=pvalue\n",
        "            #print(\"pero is present\")\n",
        "        #print(\"child: \", childId, text, elementScore)\n",
        "####continuing with parents/heads of the branch ###\n",
        "    lemma=dct[headId-1][\"lemma\"]\n",
        "    pos=dct[headId-1][\"upos\"]\n",
        "    deprel= dct[headId-1][\"deprel\"]\n",
        "    headmodstat= \"mod\" in deprel\n",
        "    headscore=\"none\"\n",
        "    childp=p\n",
        "\n",
        "    if lemma== \"nada\":\n",
        "       neg=negvalue\n",
        "       #print(\"head is negation\")\n",
        "    if lexmodstat:\n",
        "        a=lexmodscore\n",
        "        headsentimentscore=(a * (1+b)  + (np.sign(a*(1+b)))* neg)*(1+p)\n",
        "        if headmodstat==False:\n",
        "            dct[headId-1][\"elementType\"]='cnt'\n",
        "        dct[headId-1][\"elementScore\"]= headsentimentscore\n",
        "        childp=0\n",
        "        #print(\"a=\", a)\n",
        "\n",
        "    elif pos in sentdicts.keys():\n",
        "        dsent= sentdicts[pos]\n",
        "        if lemma in dsent.keys():\n",
        "            headscore=dsent[lemma]\n",
        "            a=dsent[lemma]\n",
        "            headsentimentscore=(a * (1+b)  + (np.sign(a*(1+b)))* neg)*(1+p)\n",
        "            if headmodstat==False:\n",
        "                dct[headId-1][\"elementType\"]='cnt'\n",
        "            dct[headId-1][\"elementScore\"]= headsentimentscore\n",
        "            childp=0\n",
        "            #print(\"head is a sentiment word and is a lexical head\")\n",
        "\n",
        "    elif lexstat and False:\n",
        "        a=lexscore\n",
        "        headsentimentscore=(a * (1+b)  + (np.sign(a*(1+b)))* neg)*(1+p)\n",
        "        if headmodstat==False:\n",
        "            dct[headId-1][\"elementType\"]='cnt'\n",
        "        dct[headId-1][\"elementScore\"]= headsentimentscore\n",
        "        #childp=0\n",
        "        #print(\"lexhead applies\")\n",
        "        #print(\"a and headsentimentscore\", a, headsentimentscore)\n",
        "\n",
        "    #elif ##check status of children, whether object\n",
        "    if False: #### ###applying negation to heads of previous nodes if they are not clauses\n",
        "        for childId in lstcntchildren:\n",
        "            dct[childId-1][\"elementScore\"]= (dct[childId-1][\"elementScore\"]+  (np.sign(dct[childId-1][\"elementScore\"]))* neg)*(1+childp)\n",
        "    #print(\"head: \", headId, lemma, headscore, headsentimentscore)\n",
        "    return dct"
      ]
    },
    {
      "cell_type": "code",
      "execution_count": null,
      "metadata": {
        "id": "98Q1qPqxvS0H"
      },
      "outputs": [],
      "source": [
        "def scaleB(inputVal):\n",
        "    return ((inputVal+5)/10)*0.50 -0.25"
      ]
    },
    {
      "cell_type": "code",
      "execution_count": null,
      "metadata": {
        "colab": {
          "base_uri": "https://localhost:8080/"
        },
        "id": "OUbiPIzYdU7-",
        "outputId": "25474c85-8438-4573-9dd9-94c2e4d74f87"
      },
      "outputs": [
        {
          "data": {
            "text/plain": [
              "-0.04999999999999999"
            ]
          },
          "execution_count": 32,
          "metadata": {},
          "output_type": "execute_result"
        }
      ],
      "source": [
        "scaleB(-1)"
      ]
    },
    {
      "cell_type": "code",
      "execution_count": null,
      "metadata": {
        "id": "9SoRWIM-kExp"
      },
      "outputs": [],
      "source": []
    },
    {
      "cell_type": "markdown",
      "metadata": {
        "id": "e93tN1ryW0CC"
      },
      "source": [
        "Compute the Sentence Score"
      ]
    },
    {
      "cell_type": "code",
      "execution_count": null,
      "metadata": {
        "id": "o2xjs8Yk5s8x"
      },
      "outputs": [],
      "source": [
        "def calcSentenceScore(sent):\n",
        "    lstScores=[]\n",
        "\n",
        "    dicts = {}\n",
        "\n",
        "    dicts = createDic(sent)\n",
        "    #print(len(dicts))\n",
        "\n",
        "    for dicVal in dicts:\n",
        "        #print(dicVal)\n",
        "\n",
        "        dctChild, dctParent, dctSibling, dctBeforeToken = getChildParentDicts(dicVal)\n",
        "\n",
        "        ###Step 2 figure out order of nodes\n",
        "        branchheadIds= calcbranchorder(dctChild)\n",
        "\n",
        "        ## Step 3 looping over nodes\n",
        "        if branchheadIds!=[0]:\n",
        "            for headId in branchheadIds:\n",
        "                dct=calcbranch(dicVal, headId, dctChild[headId])\n",
        "                #print(dct)\n",
        "\n",
        "            ###Step 4 collect the scores of branchheadIds\n",
        "                if \"elementType\" in dct[headId-1].keys():\n",
        "                  #if dct[headId-1][\"elementType\"]=='cnt':\n",
        "                  if dct[headId-1][\"elementType\"]=='cnt':\n",
        "                        lstScores.append(dct[headId-1][\"elementScore\"])\n",
        "                        #print(\"lstScores\", lstScores)\n",
        "        else:\n",
        "            headId=1\n",
        "            dct=calcbranch(dicVal, headId, [])\n",
        "            #print(dct)\n",
        "        ###Step 4 collect the scores of branchheadIds\n",
        "        if \"elementType\" in dct[headId-1].keys():\n",
        "            #if dct[headId-1][\"elementType\"]=='cnt':\n",
        "            if dct[headId-1][\"elementType\"]=='cnt':\n",
        "                lstScores.append(dct[headId-1][\"elementScore\"])\n",
        "                #print(\"lstScores\", lstScores)\n",
        "\n",
        "        ###Step 5 create a sentence score\n",
        "        #SentenceScore= np.mean(lstScores) # metrics a= mean scores\n",
        "\n",
        "        if len(lstScores)!=0: #Assign score\n",
        "            NumPosScores = sum([1 for score in lstScores if score>0])\n",
        "            NumNegScores = sum([1 for score in lstScores if score<0])\n",
        "\n",
        "            for x in lstScores:\n",
        "                if NumPosScores > NumNegScores:\n",
        "                    SentenceScore = max(lstScores)\n",
        "                elif NumPosScores < NumNegScores:\n",
        "                    SentenceScore = min(lstScores)\n",
        "                else:\n",
        "                    SentenceScore = mean([float(score) for score in lstScores])\n",
        "                    #SentenceScore= Extreme value function (metrics c)\n",
        "\n",
        "                print(lstScores)\n",
        "                print(\"SentenceScore\", SentenceScore)\n",
        "\n",
        "            return SentenceScore\n",
        "        else:\n",
        "            return -200"
      ]
    },
    {
      "cell_type": "code",
      "execution_count": null,
      "metadata": {
        "id": "LcQSVRkKH-37"
      },
      "outputs": [],
      "source": []
    },
    {
      "cell_type": "code",
      "execution_count": null,
      "metadata": {
        "id": "MZ-RxD0u9SV4"
      },
      "outputs": [],
      "source": [
        "\n",
        "r1= \"muy bueno\""
      ]
    },
    {
      "cell_type": "code",
      "execution_count": null,
      "metadata": {
        "colab": {
          "base_uri": "https://localhost:8080/",
          "height": 345
        },
        "id": "-O7vSpcPWSLl",
        "outputId": "4cf1e773-6d72-4e33-975d-03ce257486e2"
      },
      "outputs": [
        {
          "name": "stdout",
          "output_type": "stream",
          "text": [
            "headchild =  2\n",
            "childid= 1\n",
            "[2.3, 2.3]\n",
            "SentenceScore 2.3\n",
            "[2.3, 2.3]\n",
            "SentenceScore 2.3\n"
          ]
        },
        {
          "data": {
            "text/plain": [
              "2.3"
            ]
          },
          "execution_count": 38,
          "metadata": {},
          "output_type": "execute_result"
        }
      ],
      "source": [
        "calcSentenceScore(r1)"
      ]
    },
    {
      "cell_type": "code",
      "execution_count": null,
      "metadata": {
        "id": "sfAhzqbCZecM"
      },
      "outputs": [],
      "source": []
    },
    {
      "cell_type": "code",
      "execution_count": null,
      "metadata": {
        "id": "fkczXy9j85gi"
      },
      "outputs": [],
      "source": []
    },
    {
      "cell_type": "code",
      "execution_count": null,
      "metadata": {
        "id": "eI8fb0E6fmZx"
      },
      "outputs": [],
      "source": []
    },
    {
      "cell_type": "code",
      "execution_count": null,
      "metadata": {
        "id": "0AxACS12XOGX"
      },
      "outputs": [],
      "source": []
    }
  ],
  "metadata": {
    "colab": {
      "provenance": []
    },
    "kernelspec": {
      "display_name": "Python 3 (ipykernel)",
      "language": "python",
      "name": "python3"
    },
    "language_info": {
      "codemirror_mode": {
        "name": "ipython",
        "version": 3
      },
      "file_extension": ".py",
      "mimetype": "text/x-python",
      "name": "python",
      "nbconvert_exporter": "python",
      "pygments_lexer": "ipython3",
      "version": "3.11.5"
    },
    "widgets": {
      "application/vnd.jupyter.widget-state+json": {
        "04c5f2e59b9045adb00e966b1e7acc27": {
          "model_module": "@jupyter-widgets/base",
          "model_module_version": "1.2.0",
          "model_name": "LayoutModel",
          "state": {
            "_model_module": "@jupyter-widgets/base",
            "_model_module_version": "1.2.0",
            "_model_name": "LayoutModel",
            "_view_count": null,
            "_view_module": "@jupyter-widgets/base",
            "_view_module_version": "1.2.0",
            "_view_name": "LayoutView",
            "align_content": null,
            "align_items": null,
            "align_self": null,
            "border": null,
            "bottom": null,
            "display": null,
            "flex": null,
            "flex_flow": null,
            "grid_area": null,
            "grid_auto_columns": null,
            "grid_auto_flow": null,
            "grid_auto_rows": null,
            "grid_column": null,
            "grid_gap": null,
            "grid_row": null,
            "grid_template_areas": null,
            "grid_template_columns": null,
            "grid_template_rows": null,
            "height": null,
            "justify_content": null,
            "justify_items": null,
            "left": null,
            "margin": null,
            "max_height": null,
            "max_width": null,
            "min_height": null,
            "min_width": null,
            "object_fit": null,
            "object_position": null,
            "order": null,
            "overflow": null,
            "overflow_x": null,
            "overflow_y": null,
            "padding": null,
            "right": null,
            "top": null,
            "visibility": null,
            "width": null
          }
        },
        "064c9fbcea274657bba01bd2345eff27": {
          "model_module": "@jupyter-widgets/base",
          "model_module_version": "1.2.0",
          "model_name": "LayoutModel",
          "state": {
            "_model_module": "@jupyter-widgets/base",
            "_model_module_version": "1.2.0",
            "_model_name": "LayoutModel",
            "_view_count": null,
            "_view_module": "@jupyter-widgets/base",
            "_view_module_version": "1.2.0",
            "_view_name": "LayoutView",
            "align_content": null,
            "align_items": null,
            "align_self": null,
            "border": null,
            "bottom": null,
            "display": null,
            "flex": null,
            "flex_flow": null,
            "grid_area": null,
            "grid_auto_columns": null,
            "grid_auto_flow": null,
            "grid_auto_rows": null,
            "grid_column": null,
            "grid_gap": null,
            "grid_row": null,
            "grid_template_areas": null,
            "grid_template_columns": null,
            "grid_template_rows": null,
            "height": null,
            "justify_content": null,
            "justify_items": null,
            "left": null,
            "margin": null,
            "max_height": null,
            "max_width": null,
            "min_height": null,
            "min_width": null,
            "object_fit": null,
            "object_position": null,
            "order": null,
            "overflow": null,
            "overflow_x": null,
            "overflow_y": null,
            "padding": null,
            "right": null,
            "top": null,
            "visibility": null,
            "width": null
          }
        },
        "0cc5089b9d844216b88e641ca6d1356e": {
          "model_module": "@jupyter-widgets/controls",
          "model_module_version": "1.5.0",
          "model_name": "HBoxModel",
          "state": {
            "_dom_classes": [],
            "_model_module": "@jupyter-widgets/controls",
            "_model_module_version": "1.5.0",
            "_model_name": "HBoxModel",
            "_view_count": null,
            "_view_module": "@jupyter-widgets/controls",
            "_view_module_version": "1.5.0",
            "_view_name": "HBoxView",
            "box_style": "",
            "children": [
              "IPY_MODEL_1ca74528f8044ea8ae745941f9472be7",
              "IPY_MODEL_7f1a13fc33e747c98fa71e2288a386f1",
              "IPY_MODEL_f89114f181a04f1ab35198f8127ea912"
            ],
            "layout": "IPY_MODEL_04c5f2e59b9045adb00e966b1e7acc27"
          }
        },
        "10986582f32e4dd88256322026220f4f": {
          "model_module": "@jupyter-widgets/base",
          "model_module_version": "1.2.0",
          "model_name": "LayoutModel",
          "state": {
            "_model_module": "@jupyter-widgets/base",
            "_model_module_version": "1.2.0",
            "_model_name": "LayoutModel",
            "_view_count": null,
            "_view_module": "@jupyter-widgets/base",
            "_view_module_version": "1.2.0",
            "_view_name": "LayoutView",
            "align_content": null,
            "align_items": null,
            "align_self": null,
            "border": null,
            "bottom": null,
            "display": null,
            "flex": null,
            "flex_flow": null,
            "grid_area": null,
            "grid_auto_columns": null,
            "grid_auto_flow": null,
            "grid_auto_rows": null,
            "grid_column": null,
            "grid_gap": null,
            "grid_row": null,
            "grid_template_areas": null,
            "grid_template_columns": null,
            "grid_template_rows": null,
            "height": null,
            "justify_content": null,
            "justify_items": null,
            "left": null,
            "margin": null,
            "max_height": null,
            "max_width": null,
            "min_height": null,
            "min_width": null,
            "object_fit": null,
            "object_position": null,
            "order": null,
            "overflow": null,
            "overflow_x": null,
            "overflow_y": null,
            "padding": null,
            "right": null,
            "top": null,
            "visibility": null,
            "width": null
          }
        },
        "19dcbe83e12247d4927836b33659f4ee": {
          "model_module": "@jupyter-widgets/base",
          "model_module_version": "1.2.0",
          "model_name": "LayoutModel",
          "state": {
            "_model_module": "@jupyter-widgets/base",
            "_model_module_version": "1.2.0",
            "_model_name": "LayoutModel",
            "_view_count": null,
            "_view_module": "@jupyter-widgets/base",
            "_view_module_version": "1.2.0",
            "_view_name": "LayoutView",
            "align_content": null,
            "align_items": null,
            "align_self": null,
            "border": null,
            "bottom": null,
            "display": null,
            "flex": null,
            "flex_flow": null,
            "grid_area": null,
            "grid_auto_columns": null,
            "grid_auto_flow": null,
            "grid_auto_rows": null,
            "grid_column": null,
            "grid_gap": null,
            "grid_row": null,
            "grid_template_areas": null,
            "grid_template_columns": null,
            "grid_template_rows": null,
            "height": null,
            "justify_content": null,
            "justify_items": null,
            "left": null,
            "margin": null,
            "max_height": null,
            "max_width": null,
            "min_height": null,
            "min_width": null,
            "object_fit": null,
            "object_position": null,
            "order": null,
            "overflow": null,
            "overflow_x": null,
            "overflow_y": null,
            "padding": null,
            "right": null,
            "top": null,
            "visibility": null,
            "width": null
          }
        },
        "1bf3020b511445c78cd097d41a117fa5": {
          "model_module": "@jupyter-widgets/controls",
          "model_module_version": "1.5.0",
          "model_name": "FloatProgressModel",
          "state": {
            "_dom_classes": [],
            "_model_module": "@jupyter-widgets/controls",
            "_model_module_version": "1.5.0",
            "_model_name": "FloatProgressModel",
            "_view_count": null,
            "_view_module": "@jupyter-widgets/controls",
            "_view_module_version": "1.5.0",
            "_view_name": "ProgressView",
            "bar_style": "success",
            "description": "",
            "description_tooltip": null,
            "layout": "IPY_MODEL_263eb545a6964493a34189d653d0be85",
            "max": 634200734,
            "min": 0,
            "orientation": "horizontal",
            "style": "IPY_MODEL_754bb10b02914a45a935af9cb11e8815",
            "value": 634200734
          }
        },
        "1ca74528f8044ea8ae745941f9472be7": {
          "model_module": "@jupyter-widgets/controls",
          "model_module_version": "1.5.0",
          "model_name": "HTMLModel",
          "state": {
            "_dom_classes": [],
            "_model_module": "@jupyter-widgets/controls",
            "_model_module_version": "1.5.0",
            "_model_name": "HTMLModel",
            "_view_count": null,
            "_view_module": "@jupyter-widgets/controls",
            "_view_module_version": "1.5.0",
            "_view_name": "HTMLView",
            "description": "",
            "description_tooltip": null,
            "layout": "IPY_MODEL_19dcbe83e12247d4927836b33659f4ee",
            "placeholder": "​",
            "style": "IPY_MODEL_3bc4fe7affc24319a1bd512d8c8695fa",
            "value": "Downloading https://raw.githubusercontent.com/stanfordnlp/stanza-resources/main/resources_1.5.0.json: "
          }
        },
        "1d0a89d93de24618b68fbaf29fe67946": {
          "model_module": "@jupyter-widgets/base",
          "model_module_version": "1.2.0",
          "model_name": "LayoutModel",
          "state": {
            "_model_module": "@jupyter-widgets/base",
            "_model_module_version": "1.2.0",
            "_model_name": "LayoutModel",
            "_view_count": null,
            "_view_module": "@jupyter-widgets/base",
            "_view_module_version": "1.2.0",
            "_view_name": "LayoutView",
            "align_content": null,
            "align_items": null,
            "align_self": null,
            "border": null,
            "bottom": null,
            "display": null,
            "flex": null,
            "flex_flow": null,
            "grid_area": null,
            "grid_auto_columns": null,
            "grid_auto_flow": null,
            "grid_auto_rows": null,
            "grid_column": null,
            "grid_gap": null,
            "grid_row": null,
            "grid_template_areas": null,
            "grid_template_columns": null,
            "grid_template_rows": null,
            "height": null,
            "justify_content": null,
            "justify_items": null,
            "left": null,
            "margin": null,
            "max_height": null,
            "max_width": null,
            "min_height": null,
            "min_width": null,
            "object_fit": null,
            "object_position": null,
            "order": null,
            "overflow": null,
            "overflow_x": null,
            "overflow_y": null,
            "padding": null,
            "right": null,
            "top": null,
            "visibility": null,
            "width": null
          }
        },
        "1d767e1561e24499bd751b80c0c86b93": {
          "model_module": "@jupyter-widgets/base",
          "model_module_version": "1.2.0",
          "model_name": "LayoutModel",
          "state": {
            "_model_module": "@jupyter-widgets/base",
            "_model_module_version": "1.2.0",
            "_model_name": "LayoutModel",
            "_view_count": null,
            "_view_module": "@jupyter-widgets/base",
            "_view_module_version": "1.2.0",
            "_view_name": "LayoutView",
            "align_content": null,
            "align_items": null,
            "align_self": null,
            "border": null,
            "bottom": null,
            "display": null,
            "flex": null,
            "flex_flow": null,
            "grid_area": null,
            "grid_auto_columns": null,
            "grid_auto_flow": null,
            "grid_auto_rows": null,
            "grid_column": null,
            "grid_gap": null,
            "grid_row": null,
            "grid_template_areas": null,
            "grid_template_columns": null,
            "grid_template_rows": null,
            "height": null,
            "justify_content": null,
            "justify_items": null,
            "left": null,
            "margin": null,
            "max_height": null,
            "max_width": null,
            "min_height": null,
            "min_width": null,
            "object_fit": null,
            "object_position": null,
            "order": null,
            "overflow": null,
            "overflow_x": null,
            "overflow_y": null,
            "padding": null,
            "right": null,
            "top": null,
            "visibility": null,
            "width": null
          }
        },
        "263eb545a6964493a34189d653d0be85": {
          "model_module": "@jupyter-widgets/base",
          "model_module_version": "1.2.0",
          "model_name": "LayoutModel",
          "state": {
            "_model_module": "@jupyter-widgets/base",
            "_model_module_version": "1.2.0",
            "_model_name": "LayoutModel",
            "_view_count": null,
            "_view_module": "@jupyter-widgets/base",
            "_view_module_version": "1.2.0",
            "_view_name": "LayoutView",
            "align_content": null,
            "align_items": null,
            "align_self": null,
            "border": null,
            "bottom": null,
            "display": null,
            "flex": null,
            "flex_flow": null,
            "grid_area": null,
            "grid_auto_columns": null,
            "grid_auto_flow": null,
            "grid_auto_rows": null,
            "grid_column": null,
            "grid_gap": null,
            "grid_row": null,
            "grid_template_areas": null,
            "grid_template_columns": null,
            "grid_template_rows": null,
            "height": null,
            "justify_content": null,
            "justify_items": null,
            "left": null,
            "margin": null,
            "max_height": null,
            "max_width": null,
            "min_height": null,
            "min_width": null,
            "object_fit": null,
            "object_position": null,
            "order": null,
            "overflow": null,
            "overflow_x": null,
            "overflow_y": null,
            "padding": null,
            "right": null,
            "top": null,
            "visibility": null,
            "width": null
          }
        },
        "353d17eebfa34aa3a565e06eee117a8a": {
          "model_module": "@jupyter-widgets/controls",
          "model_module_version": "1.5.0",
          "model_name": "HTMLModel",
          "state": {
            "_dom_classes": [],
            "_model_module": "@jupyter-widgets/controls",
            "_model_module_version": "1.5.0",
            "_model_name": "HTMLModel",
            "_view_count": null,
            "_view_module": "@jupyter-widgets/controls",
            "_view_module_version": "1.5.0",
            "_view_name": "HTMLView",
            "description": "",
            "description_tooltip": null,
            "layout": "IPY_MODEL_c751d9f0e1364e62804d8a151f605322",
            "placeholder": "​",
            "style": "IPY_MODEL_ebdc47b1dbed4aa1b5a6d29ea0900349",
            "value": " 216k/? [00:00&lt;00:00, 8.42MB/s]"
          }
        },
        "396372ee85d0499fa76ccc806813cd7f": {
          "model_module": "@jupyter-widgets/controls",
          "model_module_version": "1.5.0",
          "model_name": "HTMLModel",
          "state": {
            "_dom_classes": [],
            "_model_module": "@jupyter-widgets/controls",
            "_model_module_version": "1.5.0",
            "_model_name": "HTMLModel",
            "_view_count": null,
            "_view_module": "@jupyter-widgets/controls",
            "_view_module_version": "1.5.0",
            "_view_name": "HTMLView",
            "description": "",
            "description_tooltip": null,
            "layout": "IPY_MODEL_efdb0ebd568a48f8ac9340c6b8e25629",
            "placeholder": "​",
            "style": "IPY_MODEL_f1254d82d08048ff904d394f35a1961f",
            "value": "Downloading https://huggingface.co/stanfordnlp/stanza-es/resolve/v1.5.0/models/default.zip: 100%"
          }
        },
        "3bc4fe7affc24319a1bd512d8c8695fa": {
          "model_module": "@jupyter-widgets/controls",
          "model_module_version": "1.5.0",
          "model_name": "DescriptionStyleModel",
          "state": {
            "_model_module": "@jupyter-widgets/controls",
            "_model_module_version": "1.5.0",
            "_model_name": "DescriptionStyleModel",
            "_view_count": null,
            "_view_module": "@jupyter-widgets/base",
            "_view_module_version": "1.2.0",
            "_view_name": "StyleView",
            "description_width": ""
          }
        },
        "3eb210359c874409a6b5aa19db2506e6": {
          "model_module": "@jupyter-widgets/base",
          "model_module_version": "1.2.0",
          "model_name": "LayoutModel",
          "state": {
            "_model_module": "@jupyter-widgets/base",
            "_model_module_version": "1.2.0",
            "_model_name": "LayoutModel",
            "_view_count": null,
            "_view_module": "@jupyter-widgets/base",
            "_view_module_version": "1.2.0",
            "_view_name": "LayoutView",
            "align_content": null,
            "align_items": null,
            "align_self": null,
            "border": null,
            "bottom": null,
            "display": null,
            "flex": null,
            "flex_flow": null,
            "grid_area": null,
            "grid_auto_columns": null,
            "grid_auto_flow": null,
            "grid_auto_rows": null,
            "grid_column": null,
            "grid_gap": null,
            "grid_row": null,
            "grid_template_areas": null,
            "grid_template_columns": null,
            "grid_template_rows": null,
            "height": null,
            "justify_content": null,
            "justify_items": null,
            "left": null,
            "margin": null,
            "max_height": null,
            "max_width": null,
            "min_height": null,
            "min_width": null,
            "object_fit": null,
            "object_position": null,
            "order": null,
            "overflow": null,
            "overflow_x": null,
            "overflow_y": null,
            "padding": null,
            "right": null,
            "top": null,
            "visibility": null,
            "width": null
          }
        },
        "428a0b91ea7c43ecb6f5d128fdc47d57": {
          "model_module": "@jupyter-widgets/controls",
          "model_module_version": "1.5.0",
          "model_name": "DescriptionStyleModel",
          "state": {
            "_model_module": "@jupyter-widgets/controls",
            "_model_module_version": "1.5.0",
            "_model_name": "DescriptionStyleModel",
            "_view_count": null,
            "_view_module": "@jupyter-widgets/base",
            "_view_module_version": "1.2.0",
            "_view_name": "StyleView",
            "description_width": ""
          }
        },
        "523e699ba0c446f39da71a66f464b8c7": {
          "model_module": "@jupyter-widgets/controls",
          "model_module_version": "1.5.0",
          "model_name": "HTMLModel",
          "state": {
            "_dom_classes": [],
            "_model_module": "@jupyter-widgets/controls",
            "_model_module_version": "1.5.0",
            "_model_name": "HTMLModel",
            "_view_count": null,
            "_view_module": "@jupyter-widgets/controls",
            "_view_module_version": "1.5.0",
            "_view_name": "HTMLView",
            "description": "",
            "description_tooltip": null,
            "layout": "IPY_MODEL_dcf2bd9b24c745ee9e4db831cc193154",
            "placeholder": "​",
            "style": "IPY_MODEL_428a0b91ea7c43ecb6f5d128fdc47d57",
            "value": "Downloading https://raw.githubusercontent.com/stanfordnlp/stanza-resources/main/resources_1.5.0.json: "
          }
        },
        "526cfe01f32d4e138152cef8c13e0a0b": {
          "model_module": "@jupyter-widgets/controls",
          "model_module_version": "1.5.0",
          "model_name": "HBoxModel",
          "state": {
            "_dom_classes": [],
            "_model_module": "@jupyter-widgets/controls",
            "_model_module_version": "1.5.0",
            "_model_name": "HBoxModel",
            "_view_count": null,
            "_view_module": "@jupyter-widgets/controls",
            "_view_module_version": "1.5.0",
            "_view_name": "HBoxView",
            "box_style": "",
            "children": [
              "IPY_MODEL_523e699ba0c446f39da71a66f464b8c7",
              "IPY_MODEL_e89ec59f7e7a447d8648c40c47096fae",
              "IPY_MODEL_353d17eebfa34aa3a565e06eee117a8a"
            ],
            "layout": "IPY_MODEL_064c9fbcea274657bba01bd2345eff27"
          }
        },
        "530a279950474e3c8e4c3b0ea64dd2bb": {
          "model_module": "@jupyter-widgets/base",
          "model_module_version": "1.2.0",
          "model_name": "LayoutModel",
          "state": {
            "_model_module": "@jupyter-widgets/base",
            "_model_module_version": "1.2.0",
            "_model_name": "LayoutModel",
            "_view_count": null,
            "_view_module": "@jupyter-widgets/base",
            "_view_module_version": "1.2.0",
            "_view_name": "LayoutView",
            "align_content": null,
            "align_items": null,
            "align_self": null,
            "border": null,
            "bottom": null,
            "display": null,
            "flex": null,
            "flex_flow": null,
            "grid_area": null,
            "grid_auto_columns": null,
            "grid_auto_flow": null,
            "grid_auto_rows": null,
            "grid_column": null,
            "grid_gap": null,
            "grid_row": null,
            "grid_template_areas": null,
            "grid_template_columns": null,
            "grid_template_rows": null,
            "height": null,
            "justify_content": null,
            "justify_items": null,
            "left": null,
            "margin": null,
            "max_height": null,
            "max_width": null,
            "min_height": null,
            "min_width": null,
            "object_fit": null,
            "object_position": null,
            "order": null,
            "overflow": null,
            "overflow_x": null,
            "overflow_y": null,
            "padding": null,
            "right": null,
            "top": null,
            "visibility": null,
            "width": null
          }
        },
        "559e66d409b84a7bb928cfe576f6b56a": {
          "model_module": "@jupyter-widgets/controls",
          "model_module_version": "1.5.0",
          "model_name": "HBoxModel",
          "state": {
            "_dom_classes": [],
            "_model_module": "@jupyter-widgets/controls",
            "_model_module_version": "1.5.0",
            "_model_name": "HBoxModel",
            "_view_count": null,
            "_view_module": "@jupyter-widgets/controls",
            "_view_module_version": "1.5.0",
            "_view_name": "HBoxView",
            "box_style": "",
            "children": [
              "IPY_MODEL_6eef304b42424bc2abf51e18bd0e8290",
              "IPY_MODEL_71ad4412b34041058d6886ac54f81d78",
              "IPY_MODEL_82b9a5407cc6470c8a4d80b7e9b6cf06"
            ],
            "layout": "IPY_MODEL_1d767e1561e24499bd751b80c0c86b93"
          }
        },
        "5df8e1cb289845ac9ac29a0bd2b5d4b0": {
          "model_module": "@jupyter-widgets/base",
          "model_module_version": "1.2.0",
          "model_name": "LayoutModel",
          "state": {
            "_model_module": "@jupyter-widgets/base",
            "_model_module_version": "1.2.0",
            "_model_name": "LayoutModel",
            "_view_count": null,
            "_view_module": "@jupyter-widgets/base",
            "_view_module_version": "1.2.0",
            "_view_name": "LayoutView",
            "align_content": null,
            "align_items": null,
            "align_self": null,
            "border": null,
            "bottom": null,
            "display": null,
            "flex": null,
            "flex_flow": null,
            "grid_area": null,
            "grid_auto_columns": null,
            "grid_auto_flow": null,
            "grid_auto_rows": null,
            "grid_column": null,
            "grid_gap": null,
            "grid_row": null,
            "grid_template_areas": null,
            "grid_template_columns": null,
            "grid_template_rows": null,
            "height": null,
            "justify_content": null,
            "justify_items": null,
            "left": null,
            "margin": null,
            "max_height": null,
            "max_width": null,
            "min_height": null,
            "min_width": null,
            "object_fit": null,
            "object_position": null,
            "order": null,
            "overflow": null,
            "overflow_x": null,
            "overflow_y": null,
            "padding": null,
            "right": null,
            "top": null,
            "visibility": null,
            "width": null
          }
        },
        "6eef304b42424bc2abf51e18bd0e8290": {
          "model_module": "@jupyter-widgets/controls",
          "model_module_version": "1.5.0",
          "model_name": "HTMLModel",
          "state": {
            "_dom_classes": [],
            "_model_module": "@jupyter-widgets/controls",
            "_model_module_version": "1.5.0",
            "_model_name": "HTMLModel",
            "_view_count": null,
            "_view_module": "@jupyter-widgets/controls",
            "_view_module_version": "1.5.0",
            "_view_name": "HTMLView",
            "description": "",
            "description_tooltip": null,
            "layout": "IPY_MODEL_5df8e1cb289845ac9ac29a0bd2b5d4b0",
            "placeholder": "​",
            "style": "IPY_MODEL_72b436c9b7fd45a2a9b89fc21c3fa7ac",
            "value": "Downloading https://raw.githubusercontent.com/stanfordnlp/stanza-resources/main/resources_1.5.0.json: "
          }
        },
        "71ad4412b34041058d6886ac54f81d78": {
          "model_module": "@jupyter-widgets/controls",
          "model_module_version": "1.5.0",
          "model_name": "FloatProgressModel",
          "state": {
            "_dom_classes": [],
            "_model_module": "@jupyter-widgets/controls",
            "_model_module_version": "1.5.0",
            "_model_name": "FloatProgressModel",
            "_view_count": null,
            "_view_module": "@jupyter-widgets/controls",
            "_view_module_version": "1.5.0",
            "_view_name": "ProgressView",
            "bar_style": "success",
            "description": "",
            "description_tooltip": null,
            "layout": "IPY_MODEL_10986582f32e4dd88256322026220f4f",
            "max": 30101,
            "min": 0,
            "orientation": "horizontal",
            "style": "IPY_MODEL_87fdc1457b764ff79920ccbc1e22a8a3",
            "value": 30101
          }
        },
        "72b436c9b7fd45a2a9b89fc21c3fa7ac": {
          "model_module": "@jupyter-widgets/controls",
          "model_module_version": "1.5.0",
          "model_name": "DescriptionStyleModel",
          "state": {
            "_model_module": "@jupyter-widgets/controls",
            "_model_module_version": "1.5.0",
            "_model_name": "DescriptionStyleModel",
            "_view_count": null,
            "_view_module": "@jupyter-widgets/base",
            "_view_module_version": "1.2.0",
            "_view_name": "StyleView",
            "description_width": ""
          }
        },
        "754bb10b02914a45a935af9cb11e8815": {
          "model_module": "@jupyter-widgets/controls",
          "model_module_version": "1.5.0",
          "model_name": "ProgressStyleModel",
          "state": {
            "_model_module": "@jupyter-widgets/controls",
            "_model_module_version": "1.5.0",
            "_model_name": "ProgressStyleModel",
            "_view_count": null,
            "_view_module": "@jupyter-widgets/base",
            "_view_module_version": "1.2.0",
            "_view_name": "StyleView",
            "bar_color": null,
            "description_width": ""
          }
        },
        "785cdf8ff7704db6896d35cf21bdc3ad": {
          "model_module": "@jupyter-widgets/controls",
          "model_module_version": "1.5.0",
          "model_name": "DescriptionStyleModel",
          "state": {
            "_model_module": "@jupyter-widgets/controls",
            "_model_module_version": "1.5.0",
            "_model_name": "DescriptionStyleModel",
            "_view_count": null,
            "_view_module": "@jupyter-widgets/base",
            "_view_module_version": "1.2.0",
            "_view_name": "StyleView",
            "description_width": ""
          }
        },
        "7f1a13fc33e747c98fa71e2288a386f1": {
          "model_module": "@jupyter-widgets/controls",
          "model_module_version": "1.5.0",
          "model_name": "FloatProgressModel",
          "state": {
            "_dom_classes": [],
            "_model_module": "@jupyter-widgets/controls",
            "_model_module_version": "1.5.0",
            "_model_name": "FloatProgressModel",
            "_view_count": null,
            "_view_module": "@jupyter-widgets/controls",
            "_view_module_version": "1.5.0",
            "_view_name": "ProgressView",
            "bar_style": "success",
            "description": "",
            "description_tooltip": null,
            "layout": "IPY_MODEL_3eb210359c874409a6b5aa19db2506e6",
            "max": 30101,
            "min": 0,
            "orientation": "horizontal",
            "style": "IPY_MODEL_c8de60c29c2648f2b490da1cf37c3cbb",
            "value": 30101
          }
        },
        "7f252fade1e24d07b5440b784a82e62e": {
          "model_module": "@jupyter-widgets/controls",
          "model_module_version": "1.5.0",
          "model_name": "HTMLModel",
          "state": {
            "_dom_classes": [],
            "_model_module": "@jupyter-widgets/controls",
            "_model_module_version": "1.5.0",
            "_model_name": "HTMLModel",
            "_view_count": null,
            "_view_module": "@jupyter-widgets/controls",
            "_view_module_version": "1.5.0",
            "_view_name": "HTMLView",
            "description": "",
            "description_tooltip": null,
            "layout": "IPY_MODEL_9a9651bd2b614e7ba973cb308297b97a",
            "placeholder": "​",
            "style": "IPY_MODEL_785cdf8ff7704db6896d35cf21bdc3ad",
            "value": " 634M/634M [00:08&lt;00:00, 68.3MB/s]"
          }
        },
        "82b9a5407cc6470c8a4d80b7e9b6cf06": {
          "model_module": "@jupyter-widgets/controls",
          "model_module_version": "1.5.0",
          "model_name": "HTMLModel",
          "state": {
            "_dom_classes": [],
            "_model_module": "@jupyter-widgets/controls",
            "_model_module_version": "1.5.0",
            "_model_name": "HTMLModel",
            "_view_count": null,
            "_view_module": "@jupyter-widgets/controls",
            "_view_module_version": "1.5.0",
            "_view_name": "HTMLView",
            "description": "",
            "description_tooltip": null,
            "layout": "IPY_MODEL_1d0a89d93de24618b68fbaf29fe67946",
            "placeholder": "​",
            "style": "IPY_MODEL_95b39a5e48d743fdb767e0f335226ff2",
            "value": " 216k/? [00:00&lt;00:00, 3.78MB/s]"
          }
        },
        "8710ad993b9745cfa1741fa10353bbe1": {
          "model_module": "@jupyter-widgets/base",
          "model_module_version": "1.2.0",
          "model_name": "LayoutModel",
          "state": {
            "_model_module": "@jupyter-widgets/base",
            "_model_module_version": "1.2.0",
            "_model_name": "LayoutModel",
            "_view_count": null,
            "_view_module": "@jupyter-widgets/base",
            "_view_module_version": "1.2.0",
            "_view_name": "LayoutView",
            "align_content": null,
            "align_items": null,
            "align_self": null,
            "border": null,
            "bottom": null,
            "display": null,
            "flex": null,
            "flex_flow": null,
            "grid_area": null,
            "grid_auto_columns": null,
            "grid_auto_flow": null,
            "grid_auto_rows": null,
            "grid_column": null,
            "grid_gap": null,
            "grid_row": null,
            "grid_template_areas": null,
            "grid_template_columns": null,
            "grid_template_rows": null,
            "height": null,
            "justify_content": null,
            "justify_items": null,
            "left": null,
            "margin": null,
            "max_height": null,
            "max_width": null,
            "min_height": null,
            "min_width": null,
            "object_fit": null,
            "object_position": null,
            "order": null,
            "overflow": null,
            "overflow_x": null,
            "overflow_y": null,
            "padding": null,
            "right": null,
            "top": null,
            "visibility": null,
            "width": null
          }
        },
        "87fdc1457b764ff79920ccbc1e22a8a3": {
          "model_module": "@jupyter-widgets/controls",
          "model_module_version": "1.5.0",
          "model_name": "ProgressStyleModel",
          "state": {
            "_model_module": "@jupyter-widgets/controls",
            "_model_module_version": "1.5.0",
            "_model_name": "ProgressStyleModel",
            "_view_count": null,
            "_view_module": "@jupyter-widgets/base",
            "_view_module_version": "1.2.0",
            "_view_name": "StyleView",
            "bar_color": null,
            "description_width": ""
          }
        },
        "8e6f555da55440589c3ece238a44f700": {
          "model_module": "@jupyter-widgets/base",
          "model_module_version": "1.2.0",
          "model_name": "LayoutModel",
          "state": {
            "_model_module": "@jupyter-widgets/base",
            "_model_module_version": "1.2.0",
            "_model_name": "LayoutModel",
            "_view_count": null,
            "_view_module": "@jupyter-widgets/base",
            "_view_module_version": "1.2.0",
            "_view_name": "LayoutView",
            "align_content": null,
            "align_items": null,
            "align_self": null,
            "border": null,
            "bottom": null,
            "display": null,
            "flex": null,
            "flex_flow": null,
            "grid_area": null,
            "grid_auto_columns": null,
            "grid_auto_flow": null,
            "grid_auto_rows": null,
            "grid_column": null,
            "grid_gap": null,
            "grid_row": null,
            "grid_template_areas": null,
            "grid_template_columns": null,
            "grid_template_rows": null,
            "height": null,
            "justify_content": null,
            "justify_items": null,
            "left": null,
            "margin": null,
            "max_height": null,
            "max_width": null,
            "min_height": null,
            "min_width": null,
            "object_fit": null,
            "object_position": null,
            "order": null,
            "overflow": null,
            "overflow_x": null,
            "overflow_y": null,
            "padding": null,
            "right": null,
            "top": null,
            "visibility": null,
            "width": null
          }
        },
        "95b39a5e48d743fdb767e0f335226ff2": {
          "model_module": "@jupyter-widgets/controls",
          "model_module_version": "1.5.0",
          "model_name": "DescriptionStyleModel",
          "state": {
            "_model_module": "@jupyter-widgets/controls",
            "_model_module_version": "1.5.0",
            "_model_name": "DescriptionStyleModel",
            "_view_count": null,
            "_view_module": "@jupyter-widgets/base",
            "_view_module_version": "1.2.0",
            "_view_name": "StyleView",
            "description_width": ""
          }
        },
        "9a9651bd2b614e7ba973cb308297b97a": {
          "model_module": "@jupyter-widgets/base",
          "model_module_version": "1.2.0",
          "model_name": "LayoutModel",
          "state": {
            "_model_module": "@jupyter-widgets/base",
            "_model_module_version": "1.2.0",
            "_model_name": "LayoutModel",
            "_view_count": null,
            "_view_module": "@jupyter-widgets/base",
            "_view_module_version": "1.2.0",
            "_view_name": "LayoutView",
            "align_content": null,
            "align_items": null,
            "align_self": null,
            "border": null,
            "bottom": null,
            "display": null,
            "flex": null,
            "flex_flow": null,
            "grid_area": null,
            "grid_auto_columns": null,
            "grid_auto_flow": null,
            "grid_auto_rows": null,
            "grid_column": null,
            "grid_gap": null,
            "grid_row": null,
            "grid_template_areas": null,
            "grid_template_columns": null,
            "grid_template_rows": null,
            "height": null,
            "justify_content": null,
            "justify_items": null,
            "left": null,
            "margin": null,
            "max_height": null,
            "max_width": null,
            "min_height": null,
            "min_width": null,
            "object_fit": null,
            "object_position": null,
            "order": null,
            "overflow": null,
            "overflow_x": null,
            "overflow_y": null,
            "padding": null,
            "right": null,
            "top": null,
            "visibility": null,
            "width": null
          }
        },
        "c496c15f38af4930a950ca0643a7541d": {
          "model_module": "@jupyter-widgets/controls",
          "model_module_version": "1.5.0",
          "model_name": "ProgressStyleModel",
          "state": {
            "_model_module": "@jupyter-widgets/controls",
            "_model_module_version": "1.5.0",
            "_model_name": "ProgressStyleModel",
            "_view_count": null,
            "_view_module": "@jupyter-widgets/base",
            "_view_module_version": "1.2.0",
            "_view_name": "StyleView",
            "bar_color": null,
            "description_width": ""
          }
        },
        "c751d9f0e1364e62804d8a151f605322": {
          "model_module": "@jupyter-widgets/base",
          "model_module_version": "1.2.0",
          "model_name": "LayoutModel",
          "state": {
            "_model_module": "@jupyter-widgets/base",
            "_model_module_version": "1.2.0",
            "_model_name": "LayoutModel",
            "_view_count": null,
            "_view_module": "@jupyter-widgets/base",
            "_view_module_version": "1.2.0",
            "_view_name": "LayoutView",
            "align_content": null,
            "align_items": null,
            "align_self": null,
            "border": null,
            "bottom": null,
            "display": null,
            "flex": null,
            "flex_flow": null,
            "grid_area": null,
            "grid_auto_columns": null,
            "grid_auto_flow": null,
            "grid_auto_rows": null,
            "grid_column": null,
            "grid_gap": null,
            "grid_row": null,
            "grid_template_areas": null,
            "grid_template_columns": null,
            "grid_template_rows": null,
            "height": null,
            "justify_content": null,
            "justify_items": null,
            "left": null,
            "margin": null,
            "max_height": null,
            "max_width": null,
            "min_height": null,
            "min_width": null,
            "object_fit": null,
            "object_position": null,
            "order": null,
            "overflow": null,
            "overflow_x": null,
            "overflow_y": null,
            "padding": null,
            "right": null,
            "top": null,
            "visibility": null,
            "width": null
          }
        },
        "c8de60c29c2648f2b490da1cf37c3cbb": {
          "model_module": "@jupyter-widgets/controls",
          "model_module_version": "1.5.0",
          "model_name": "ProgressStyleModel",
          "state": {
            "_model_module": "@jupyter-widgets/controls",
            "_model_module_version": "1.5.0",
            "_model_name": "ProgressStyleModel",
            "_view_count": null,
            "_view_module": "@jupyter-widgets/base",
            "_view_module_version": "1.2.0",
            "_view_name": "StyleView",
            "bar_color": null,
            "description_width": ""
          }
        },
        "dcf2bd9b24c745ee9e4db831cc193154": {
          "model_module": "@jupyter-widgets/base",
          "model_module_version": "1.2.0",
          "model_name": "LayoutModel",
          "state": {
            "_model_module": "@jupyter-widgets/base",
            "_model_module_version": "1.2.0",
            "_model_name": "LayoutModel",
            "_view_count": null,
            "_view_module": "@jupyter-widgets/base",
            "_view_module_version": "1.2.0",
            "_view_name": "LayoutView",
            "align_content": null,
            "align_items": null,
            "align_self": null,
            "border": null,
            "bottom": null,
            "display": null,
            "flex": null,
            "flex_flow": null,
            "grid_area": null,
            "grid_auto_columns": null,
            "grid_auto_flow": null,
            "grid_auto_rows": null,
            "grid_column": null,
            "grid_gap": null,
            "grid_row": null,
            "grid_template_areas": null,
            "grid_template_columns": null,
            "grid_template_rows": null,
            "height": null,
            "justify_content": null,
            "justify_items": null,
            "left": null,
            "margin": null,
            "max_height": null,
            "max_width": null,
            "min_height": null,
            "min_width": null,
            "object_fit": null,
            "object_position": null,
            "order": null,
            "overflow": null,
            "overflow_x": null,
            "overflow_y": null,
            "padding": null,
            "right": null,
            "top": null,
            "visibility": null,
            "width": null
          }
        },
        "ddc8a35f65bf4497974a7b091b2d7a5e": {
          "model_module": "@jupyter-widgets/controls",
          "model_module_version": "1.5.0",
          "model_name": "HBoxModel",
          "state": {
            "_dom_classes": [],
            "_model_module": "@jupyter-widgets/controls",
            "_model_module_version": "1.5.0",
            "_model_name": "HBoxModel",
            "_view_count": null,
            "_view_module": "@jupyter-widgets/controls",
            "_view_module_version": "1.5.0",
            "_view_name": "HBoxView",
            "box_style": "",
            "children": [
              "IPY_MODEL_396372ee85d0499fa76ccc806813cd7f",
              "IPY_MODEL_1bf3020b511445c78cd097d41a117fa5",
              "IPY_MODEL_7f252fade1e24d07b5440b784a82e62e"
            ],
            "layout": "IPY_MODEL_8e6f555da55440589c3ece238a44f700"
          }
        },
        "df67a64c795d47c48730edcd9a1da0ed": {
          "model_module": "@jupyter-widgets/controls",
          "model_module_version": "1.5.0",
          "model_name": "DescriptionStyleModel",
          "state": {
            "_model_module": "@jupyter-widgets/controls",
            "_model_module_version": "1.5.0",
            "_model_name": "DescriptionStyleModel",
            "_view_count": null,
            "_view_module": "@jupyter-widgets/base",
            "_view_module_version": "1.2.0",
            "_view_name": "StyleView",
            "description_width": ""
          }
        },
        "e89ec59f7e7a447d8648c40c47096fae": {
          "model_module": "@jupyter-widgets/controls",
          "model_module_version": "1.5.0",
          "model_name": "FloatProgressModel",
          "state": {
            "_dom_classes": [],
            "_model_module": "@jupyter-widgets/controls",
            "_model_module_version": "1.5.0",
            "_model_name": "FloatProgressModel",
            "_view_count": null,
            "_view_module": "@jupyter-widgets/controls",
            "_view_module_version": "1.5.0",
            "_view_name": "ProgressView",
            "bar_style": "success",
            "description": "",
            "description_tooltip": null,
            "layout": "IPY_MODEL_530a279950474e3c8e4c3b0ea64dd2bb",
            "max": 30101,
            "min": 0,
            "orientation": "horizontal",
            "style": "IPY_MODEL_c496c15f38af4930a950ca0643a7541d",
            "value": 30101
          }
        },
        "ebdc47b1dbed4aa1b5a6d29ea0900349": {
          "model_module": "@jupyter-widgets/controls",
          "model_module_version": "1.5.0",
          "model_name": "DescriptionStyleModel",
          "state": {
            "_model_module": "@jupyter-widgets/controls",
            "_model_module_version": "1.5.0",
            "_model_name": "DescriptionStyleModel",
            "_view_count": null,
            "_view_module": "@jupyter-widgets/base",
            "_view_module_version": "1.2.0",
            "_view_name": "StyleView",
            "description_width": ""
          }
        },
        "efdb0ebd568a48f8ac9340c6b8e25629": {
          "model_module": "@jupyter-widgets/base",
          "model_module_version": "1.2.0",
          "model_name": "LayoutModel",
          "state": {
            "_model_module": "@jupyter-widgets/base",
            "_model_module_version": "1.2.0",
            "_model_name": "LayoutModel",
            "_view_count": null,
            "_view_module": "@jupyter-widgets/base",
            "_view_module_version": "1.2.0",
            "_view_name": "LayoutView",
            "align_content": null,
            "align_items": null,
            "align_self": null,
            "border": null,
            "bottom": null,
            "display": null,
            "flex": null,
            "flex_flow": null,
            "grid_area": null,
            "grid_auto_columns": null,
            "grid_auto_flow": null,
            "grid_auto_rows": null,
            "grid_column": null,
            "grid_gap": null,
            "grid_row": null,
            "grid_template_areas": null,
            "grid_template_columns": null,
            "grid_template_rows": null,
            "height": null,
            "justify_content": null,
            "justify_items": null,
            "left": null,
            "margin": null,
            "max_height": null,
            "max_width": null,
            "min_height": null,
            "min_width": null,
            "object_fit": null,
            "object_position": null,
            "order": null,
            "overflow": null,
            "overflow_x": null,
            "overflow_y": null,
            "padding": null,
            "right": null,
            "top": null,
            "visibility": null,
            "width": null
          }
        },
        "f1254d82d08048ff904d394f35a1961f": {
          "model_module": "@jupyter-widgets/controls",
          "model_module_version": "1.5.0",
          "model_name": "DescriptionStyleModel",
          "state": {
            "_model_module": "@jupyter-widgets/controls",
            "_model_module_version": "1.5.0",
            "_model_name": "DescriptionStyleModel",
            "_view_count": null,
            "_view_module": "@jupyter-widgets/base",
            "_view_module_version": "1.2.0",
            "_view_name": "StyleView",
            "description_width": ""
          }
        },
        "f89114f181a04f1ab35198f8127ea912": {
          "model_module": "@jupyter-widgets/controls",
          "model_module_version": "1.5.0",
          "model_name": "HTMLModel",
          "state": {
            "_dom_classes": [],
            "_model_module": "@jupyter-widgets/controls",
            "_model_module_version": "1.5.0",
            "_model_name": "HTMLModel",
            "_view_count": null,
            "_view_module": "@jupyter-widgets/controls",
            "_view_module_version": "1.5.0",
            "_view_name": "HTMLView",
            "description": "",
            "description_tooltip": null,
            "layout": "IPY_MODEL_8710ad993b9745cfa1741fa10353bbe1",
            "placeholder": "​",
            "style": "IPY_MODEL_df67a64c795d47c48730edcd9a1da0ed",
            "value": " 216k/? [00:00&lt;00:00, 5.98MB/s]"
          }
        }
      }
    }
  },
  "nbformat": 4,
  "nbformat_minor": 0
}